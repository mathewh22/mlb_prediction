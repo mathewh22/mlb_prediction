{
 "cells": [
  {
   "cell_type": "markdown",
   "metadata": {},
   "source": [
    "# MLB Predictor Project\n",
    "\n",
    "Group 21, Plotters for Success\n",
    "\n",
    "Gerardo Skrut, Victor Gikunda, Mathew Huang"
   ]
  },
  {
   "cell_type": "code",
   "execution_count": 2,
   "metadata": {},
   "outputs": [
    {
     "name": "stderr",
     "output_type": "stream",
     "text": [
      "/usr/lib/python3/dist-packages/scipy/__init__.py:146: UserWarning: A NumPy version >=1.17.3 and <1.25.0 is required for this version of SciPy (detected version 1.26.4\n",
      "  warnings.warn(f\"A NumPy version >={np_minversion} and <{np_maxversion}\"\n"
     ]
    }
   ],
   "source": [
    "import pandas as pd\n",
    "import seaborn as sn\n",
    "import pickle\n",
    "import chardet\n",
    "import sklearn as sk\n",
    "from meteostat import Point, Hourly\n",
    "from datetime import datetime\n",
    "import matplotlib"
   ]
  },
  {
   "cell_type": "markdown",
   "metadata": {},
   "source": [
    "## Data Cleaning"
   ]
  },
  {
   "cell_type": "markdown",
   "metadata": {},
   "source": [
    "Prior to importing the data, we cleaned and explored the existing data."
   ]
  },
  {
   "cell_type": "code",
   "execution_count": 13,
   "metadata": {},
   "outputs": [
    {
     "data": {
      "text/html": [
       "<div>\n",
       "<style scoped>\n",
       "    .dataframe tbody tr th:only-of-type {\n",
       "        vertical-align: middle;\n",
       "    }\n",
       "\n",
       "    .dataframe tbody tr th {\n",
       "        vertical-align: top;\n",
       "    }\n",
       "\n",
       "    .dataframe thead th {\n",
       "        text-align: right;\n",
       "    }\n",
       "</style>\n",
       "<table border=\"1\" class=\"dataframe\">\n",
       "  <thead>\n",
       "    <tr style=\"text-align: right;\">\n",
       "      <th></th>\n",
       "      <th>gid</th>\n",
       "      <th>id</th>\n",
       "      <th>team</th>\n",
       "      <th>b_pa</th>\n",
       "      <th>b_ab</th>\n",
       "      <th>b_h</th>\n",
       "      <th>b_d</th>\n",
       "      <th>b_t</th>\n",
       "      <th>b_hr</th>\n",
       "      <th>b_rbi</th>\n",
       "      <th>b_w</th>\n",
       "      <th>b_k</th>\n",
       "      <th>date</th>\n",
       "      <th>wl</th>\n",
       "    </tr>\n",
       "  </thead>\n",
       "  <tbody>\n",
       "    <tr>\n",
       "      <th>0</th>\n",
       "      <td>BOS202303300</td>\n",
       "      <td>mullc002</td>\n",
       "      <td>BAL</td>\n",
       "      <td>6</td>\n",
       "      <td>4</td>\n",
       "      <td>1</td>\n",
       "      <td>0</td>\n",
       "      <td>0</td>\n",
       "      <td>0</td>\n",
       "      <td>1</td>\n",
       "      <td>2</td>\n",
       "      <td>1</td>\n",
       "      <td>20230330</td>\n",
       "      <td>w</td>\n",
       "    </tr>\n",
       "    <tr>\n",
       "      <th>1</th>\n",
       "      <td>BOS202303300</td>\n",
       "      <td>rutsa001</td>\n",
       "      <td>BAL</td>\n",
       "      <td>6</td>\n",
       "      <td>5</td>\n",
       "      <td>5</td>\n",
       "      <td>0</td>\n",
       "      <td>0</td>\n",
       "      <td>1</td>\n",
       "      <td>4</td>\n",
       "      <td>1</td>\n",
       "      <td>0</td>\n",
       "      <td>20230330</td>\n",
       "      <td>w</td>\n",
       "    </tr>\n",
       "    <tr>\n",
       "      <th>2</th>\n",
       "      <td>BOS202303300</td>\n",
       "      <td>santa003</td>\n",
       "      <td>BAL</td>\n",
       "      <td>6</td>\n",
       "      <td>6</td>\n",
       "      <td>2</td>\n",
       "      <td>1</td>\n",
       "      <td>0</td>\n",
       "      <td>0</td>\n",
       "      <td>0</td>\n",
       "      <td>0</td>\n",
       "      <td>2</td>\n",
       "      <td>20230330</td>\n",
       "      <td>w</td>\n",
       "    </tr>\n",
       "    <tr>\n",
       "      <th>3</th>\n",
       "      <td>BOS202303300</td>\n",
       "      <td>mcker001</td>\n",
       "      <td>BAL</td>\n",
       "      <td>0</td>\n",
       "      <td>0</td>\n",
       "      <td>0</td>\n",
       "      <td>0</td>\n",
       "      <td>0</td>\n",
       "      <td>0</td>\n",
       "      <td>0</td>\n",
       "      <td>0</td>\n",
       "      <td>0</td>\n",
       "      <td>20230330</td>\n",
       "      <td>w</td>\n",
       "    </tr>\n",
       "    <tr>\n",
       "      <th>4</th>\n",
       "      <td>BOS202303300</td>\n",
       "      <td>mounr001</td>\n",
       "      <td>BAL</td>\n",
       "      <td>6</td>\n",
       "      <td>4</td>\n",
       "      <td>1</td>\n",
       "      <td>1</td>\n",
       "      <td>0</td>\n",
       "      <td>0</td>\n",
       "      <td>1</td>\n",
       "      <td>2</td>\n",
       "      <td>0</td>\n",
       "      <td>20230330</td>\n",
       "      <td>w</td>\n",
       "    </tr>\n",
       "  </tbody>\n",
       "</table>\n",
       "</div>"
      ],
      "text/plain": [
       "            gid        id team  b_pa  b_ab  b_h  b_d  b_t  b_hr  b_rbi  b_w  \\\n",
       "0  BOS202303300  mullc002  BAL     6     4    1    0    0     0      1    2   \n",
       "1  BOS202303300  rutsa001  BAL     6     5    5    0    0     1      4    1   \n",
       "2  BOS202303300  santa003  BAL     6     6    2    1    0     0      0    0   \n",
       "3  BOS202303300  mcker001  BAL     0     0    0    0    0     0      0    0   \n",
       "4  BOS202303300  mounr001  BAL     6     4    1    1    0     0      1    2   \n",
       "\n",
       "   b_k      date wl  \n",
       "0    1  20230330  w  \n",
       "1    0  20230330  w  \n",
       "2    2  20230330  w  \n",
       "3    0  20230330  w  \n",
       "4    0  20230330  w  "
      ]
     },
     "execution_count": 13,
     "metadata": {},
     "output_type": "execute_result"
    }
   ],
   "source": [
    "#batting data cleaning\n",
    "# Load your CSV file into a DataFrame\n",
    "df = pd.read_csv('2023batting.csv')\n",
    "\n",
    "# Specify the columns you want to keep\n",
    "columns_to_keep = ['gid', 'id', 'team', 'b_pa', 'b_ab', 'b_h', 'b_d', 'b_t', 'b_hr', 'b_rbi', 'b_w', 'b_k', 'date', 'wl']  # Replace with your column names\n",
    "\n",
    "# Create a new DataFrame with only the selected columns\n",
    "df_filtered = df[columns_to_keep]\n",
    "\n",
    "# Optionally, save the filtered DataFrame to a new CSV\n",
    "df_filtered.to_csv('2023_filtered_batting_data.csv', index=False)\n",
    "\n",
    "batting_data = pd.read_csv('2023_filtered_batting_data.csv')\n",
    "batting_data.head()"
   ]
  },
  {
   "cell_type": "code",
   "execution_count": 11,
   "metadata": {},
   "outputs": [],
   "source": [
    "# Load your CSV file into a DataFrame\n",
    "df = pd.read_csv('2023pitching.csv')\n",
    "\n",
    "# Specify the columns you want to keep\n",
    "columns_to_keep = ['gid', 'id', 'team', 'p_seq', 'p_h', 'p_r', 'p_er', 'p_w', 'p_hbp', 'p_wp', 'date', 'wl']  # Replace with your column names\n",
    "\n",
    "# Create a new DataFrame with only the selected columns\n",
    "df_filtered = df[columns_to_keep]\n",
    "\n",
    "# Optionally, save the filtered DataFrame to a new CSV\n",
    "df_filtered.to_csv('2023_filtered_pitching_data.csv', index=False)\n",
    "\n",
    "pitching_data = pd.read_csv('2023_filtered_pitching_data.csv')\n",
    "pitching_data.head()"
   ]
  },
  {
   "cell_type": "markdown",
   "metadata": {},
   "source": [
    "We also "
   ]
  },
  {
   "cell_type": "code",
   "execution_count": 15,
   "metadata": {},
   "outputs": [
    {
     "data": {
      "text/html": [
       "<div>\n",
       "<style scoped>\n",
       "    .dataframe tbody tr th:only-of-type {\n",
       "        vertical-align: middle;\n",
       "    }\n",
       "\n",
       "    .dataframe tbody tr th {\n",
       "        vertical-align: top;\n",
       "    }\n",
       "\n",
       "    .dataframe thead th {\n",
       "        text-align: right;\n",
       "    }\n",
       "</style>\n",
       "<table border=\"1\" class=\"dataframe\">\n",
       "  <thead>\n",
       "    <tr style=\"text-align: right;\">\n",
       "      <th></th>\n",
       "      <th>gid</th>\n",
       "      <th>attendance</th>\n",
       "      <th>fieldcond</th>\n",
       "      <th>precip</th>\n",
       "      <th>sky</th>\n",
       "      <th>temp</th>\n",
       "      <th>winddir</th>\n",
       "      <th>umplf</th>\n",
       "      <th>umprf</th>\n",
       "    </tr>\n",
       "  </thead>\n",
       "  <tbody>\n",
       "    <tr>\n",
       "      <th>0</th>\n",
       "      <td>BOS202303300</td>\n",
       "      <td>36049</td>\n",
       "      <td>unknown</td>\n",
       "      <td>none</td>\n",
       "      <td>sunny</td>\n",
       "      <td>38</td>\n",
       "      <td>ltor</td>\n",
       "      <td>(none)</td>\n",
       "      <td>(none)</td>\n",
       "    </tr>\n",
       "    <tr>\n",
       "      <th>1</th>\n",
       "      <td>CHN202303300</td>\n",
       "      <td>36054</td>\n",
       "      <td>unknown</td>\n",
       "      <td>none</td>\n",
       "      <td>sunny</td>\n",
       "      <td>42</td>\n",
       "      <td>rtol</td>\n",
       "      <td>(none)</td>\n",
       "      <td>(none)</td>\n",
       "    </tr>\n",
       "    <tr>\n",
       "      <th>2</th>\n",
       "      <td>CIN202303300</td>\n",
       "      <td>44063</td>\n",
       "      <td>unknown</td>\n",
       "      <td>none</td>\n",
       "      <td>sunny</td>\n",
       "      <td>61</td>\n",
       "      <td>fromrf</td>\n",
       "      <td>(none)</td>\n",
       "      <td>(none)</td>\n",
       "    </tr>\n",
       "    <tr>\n",
       "      <th>3</th>\n",
       "      <td>HOU202303300</td>\n",
       "      <td>43032</td>\n",
       "      <td>unknown</td>\n",
       "      <td>none</td>\n",
       "      <td>dome</td>\n",
       "      <td>73</td>\n",
       "      <td>unknown</td>\n",
       "      <td>(none)</td>\n",
       "      <td>(none)</td>\n",
       "    </tr>\n",
       "    <tr>\n",
       "      <th>4</th>\n",
       "      <td>KCA202303300</td>\n",
       "      <td>38351</td>\n",
       "      <td>unknown</td>\n",
       "      <td>none</td>\n",
       "      <td>cloudy</td>\n",
       "      <td>67</td>\n",
       "      <td>rtol</td>\n",
       "      <td>(none)</td>\n",
       "      <td>(none)</td>\n",
       "    </tr>\n",
       "  </tbody>\n",
       "</table>\n",
       "</div>"
      ],
      "text/plain": [
       "            gid  attendance fieldcond precip     sky  temp  winddir   umplf  \\\n",
       "0  BOS202303300       36049   unknown   none   sunny    38     ltor  (none)   \n",
       "1  CHN202303300       36054   unknown   none   sunny    42     rtol  (none)   \n",
       "2  CIN202303300       44063   unknown   none   sunny    61   fromrf  (none)   \n",
       "3  HOU202303300       43032   unknown   none    dome    73  unknown  (none)   \n",
       "4  KCA202303300       38351   unknown   none  cloudy    67     rtol  (none)   \n",
       "\n",
       "    umprf  \n",
       "0  (none)  \n",
       "1  (none)  \n",
       "2  (none)  \n",
       "3  (none)  \n",
       "4  (none)  "
      ]
     },
     "execution_count": 15,
     "metadata": {},
     "output_type": "execute_result"
    }
   ],
   "source": [
    "df = pd.read_csv('2023gameinfo.csv')\n",
    "columns_to_keep = ['gid', 'attendance', 'fieldcond', 'precip', 'sky', 'temp', 'winddir', 'umplf', 'umprf']\n",
    "df_filtered = df[columns_to_keep]\n",
    "# Optionally, save the filtered DataFrame to a new CSV\n",
    "df_filtered.to_csv('2023_filtered_game_data.csv', index=False)\n",
    "game_data = pd.read_csv('2023_filtered_game_data.csv')\n",
    "game_data.head()"
   ]
  },
  {
   "cell_type": "markdown",
   "metadata": {},
   "source": [
    "# Implementing Neural Networks"
   ]
  },
  {
   "cell_type": "markdown",
   "metadata": {},
   "source": [
    "To Tune or Neural Network (NN), we are using different numbers. To do so, we will use the gridsearch CV function to process our Data "
   ]
  },
  {
   "cell_type": "code",
   "execution_count": 4,
   "metadata": {},
   "outputs": [],
   "source": [
    "from sklearn.neural_network import MLPClassifier\n",
    "from sklearn.model_selection import GridSearchCV\n",
    "from sklearn.pipeline import Pipeline"
   ]
  },
  {
   "cell_type": "markdown",
   "metadata": {},
   "source": [
    "In this portion, we are using a pipeline to scale our neural network and testing out various hyperparameters to determine which one works best"
   ]
  },
  {
   "cell_type": "code",
   "execution_count": null,
   "metadata": {},
   "outputs": [],
   "source": [
    "pline = Pipeline([('scaling', sk.preprocessing.StandardScaler()), ('pca', sk.decomposition.PCA()),\n",
    "                  ('nnet', MLPClassifier())])\n",
    "\n",
    "param_grid = {\n",
    "    'pca__n_components':list(range(5,19)),\n",
    "    'nnet__hidden_layer_sizes':[30, 40, 50, 60],\n",
    "    'nnet__activation': ['tanh', 'relu'],\n",
    "    'nnet__alpha':[0.0001, 0.05]\n",
    "\n",
    "}\n",
    "gs = GridSearchCV(pline, param_grid, cv = 5, scoring = 'accuracy')\n",
    "\n",
    "nested_score = sk.model_selection.cross_val_score(gs,data_x,labels, cv = 5)\n",
    "\n",
    "print(nested_score)\n",
    "print(\"Accuracy: \", nested_score.mean()*100)"
   ]
  },
  {
   "cell_type": "markdown",
   "metadata": {},
   "source": [
    "After tuning our hyperparameters, we will now build our final model"
   ]
  },
  {
   "cell_type": "code",
   "execution_count": null,
   "metadata": {},
   "outputs": [],
   "source": [
    "gs.fit(data_x, labels)\n",
    "best_params = gs.best_params_\n",
    "print(best_params)\n",
    "\n",
    "layer_size = best_params.get('nnet__hidden_layer_sizes')\n",
    "activation_func = best_params.get('nnet__activation')\n",
    "model_alpha = best_params.get('nnet__alpha')\n",
    "\n",
    "final_model = Pipeline([('scaling', sk.preprocessing.StandardScaler()), \n",
    "                        ('nnet', MLPClassifier(activation = activation_func, \n",
    "                                               hidden_layer_sizes=layer_size, \n",
    "                                               alpha=model_alpha))])\n",
    "\n"
   ]
  }
 ],
 "metadata": {
  "kernelspec": {
   "display_name": "usr",
   "language": "python",
   "name": "python3"
  },
  "language_info": {
   "codemirror_mode": {
    "name": "ipython",
    "version": 3
   },
   "file_extension": ".py",
   "mimetype": "text/x-python",
   "name": "python",
   "nbconvert_exporter": "python",
   "pygments_lexer": "ipython3",
   "version": "3.10.12"
  }
 },
 "nbformat": 4,
 "nbformat_minor": 2
}
