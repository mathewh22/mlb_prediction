{
 "cells": [
  {
   "cell_type": "markdown",
   "metadata": {},
   "source": [
    "# MLB Predictor Project\n",
    "\n",
    "Group 21, Plotters for Success\n",
    "\n",
    "Gerardo Skrut, Victor Gikunda, Mathew Huang"
   ]
  },
  {
   "cell_type": "code",
   "execution_count": 2,
   "metadata": {},
   "outputs": [
    {
     "name": "stderr",
     "output_type": "stream",
     "text": [
      "/usr/lib/python3/dist-packages/scipy/__init__.py:146: UserWarning: A NumPy version >=1.17.3 and <1.25.0 is required for this version of SciPy (detected version 1.26.4\n",
      "  warnings.warn(f\"A NumPy version >={np_minversion} and <{np_maxversion}\"\n"
     ]
    }
   ],
   "source": [
    "import pandas as pd\n",
    "import seaborn as sn\n",
    "import pickle\n",
    "import chardet\n",
    "\n",
    "from meteostat import Point, Hourly\n",
    "from datetime import datetime\n",
    "import matplotlib"
   ]
  },
  {
   "cell_type": "markdown",
   "metadata": {},
   "source": [
    "## Data Cleaning"
   ]
  },
  {
   "cell_type": "markdown",
   "metadata": {},
   "source": [
    "Prior to importing the data, we cleaned and explored the existing data."
   ]
  },
  {
   "cell_type": "markdown",
   "metadata": {},
   "source": [
    "# Implementing Neural Networks"
   ]
  },
  {
   "cell_type": "markdown",
   "metadata": {},
   "source": [
    "To Tune or Neural Network (NN), we are using different numbers. To do so, we will use the gridsearch CV function to process our Data "
   ]
  },
  {
   "cell_type": "code",
   "execution_count": 4,
   "metadata": {},
   "outputs": [],
   "source": [
    "import sklearn as sk\n",
    "from sklearn.neural_network import MLPClassifier\n",
    "from sklearn.model_selection import GridSearchCV\n",
    "from sklearn.pipeline import Pipeline"
   ]
  },
  {
   "cell_type": "markdown",
   "metadata": {},
   "source": [
    "In this portion, we are using a pipeline to scale our neural network and testing out various hyperparameters to determine which one works best"
   ]
  },
  {
   "cell_type": "code",
   "execution_count": null,
   "metadata": {},
   "outputs": [],
   "source": [
    "pline = Pipeline([('scaling', sk.preprocessing.StandardScaler()), ('pca', sk.decomposition.PCA()),\n",
    "                  ('nnet', MLPClassifier())])\n",
    "\n",
    "param_grid = {\n",
    "    'pca__n_components':list(range(5,19)),\n",
    "    'nnet__hidden_layer_sizes':[30, 40, 50, 60],\n",
    "    'nnet__activation': ['tanh', 'relu'],\n",
    "    'nnet__alpha':[0.0001, 0.05]\n",
    "\n",
    "}\n",
    "gs = GridSearchCV(pline, param_grid, cv = 5, scoring = 'accuracy')\n",
    "\n",
    "nested_score = sk.model_selection.cross_val_score(gs,data_x,data_y, cv = 5)\n",
    "\n",
    "print(nested_score)\n",
    "print(\"Accuracy: \", nested_score.mean()*100)"
   ]
  },
  {
   "cell_type": "markdown",
   "metadata": {},
   "source": [
    "After tuning our hyperparameters, we will now build our final model"
   ]
  },
  {
   "cell_type": "code",
   "execution_count": null,
   "metadata": {},
   "outputs": [],
   "source": [
    "gs.fit(data_x, data_y)\n",
    "best_params = gs.best_params_\n",
    "print(best_params)\n",
    "\n",
    "layer_size = best_params.get('nnet__hidden_layer_sizes')\n",
    "activation_func = best_params.get('nnet__activation')\n",
    "model_alpha = best_params.get('nnet__alpha')\n",
    "\n",
    "final_model = Pipeline([('scaling', sk.preprocessing.StandardScaler()), \n",
    "                        ('nnet', MLPClassifier(activation = activation_func, \n",
    "                                               hidden_layer_sizes=layer_size, \n",
    "                                               alpha=model_alpha))])\n",
    "\n"
   ]
  }
 ],
 "metadata": {
  "kernelspec": {
   "display_name": "usr",
   "language": "python",
   "name": "python3"
  },
  "language_info": {
   "codemirror_mode": {
    "name": "ipython",
    "version": 3
   },
   "file_extension": ".py",
   "mimetype": "text/x-python",
   "name": "python",
   "nbconvert_exporter": "python",
   "pygments_lexer": "ipython3",
   "version": "3.10.12"
  }
 },
 "nbformat": 4,
 "nbformat_minor": 2
}
